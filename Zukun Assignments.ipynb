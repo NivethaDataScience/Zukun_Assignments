{
 "cells": [
  {
   "cell_type": "markdown",
   "id": "8ba5d11b",
   "metadata": {},
   "source": [
    "DECEMBER 08 -> Assignment"
   ]
  },
  {
   "cell_type": "code",
   "execution_count": null,
   "id": "179d1d70",
   "metadata": {},
   "outputs": [],
   "source": [
    "designation = input ( \"Enter the designation :\")\n",
    "Hero_name = input(\"Enter the hero name:\")\n",
    "Heroin_name = input(\"Enter the Heroin name :\")\n",
    "Location = input(\"Enter the Location:\")\n",
    "Little_girl = input(\"Enter the Little girl name:\")\n",
    "Studied_country = input(\"Enter the country:\")\n",
    "print( f\"An old Soldier , {designation} ,{Hero_name} Life changes , after he gets a letter from a {Heroin_name} named Sits . He meets her and love blossoms between them. When he comes back to his camp in {Location} , sfter he cought in jail, he sends a leeter to {Heroin_name} which wont reach her . {Little_girl} is the Student President of {Studied_country} at a university in london . she takes up the job of delivering a letter to {Heroin_name}  at the insistence of her grandfather's will. Though she doesn't like the job , she agrees to do it to get her share of her grandfather's property . the letter is written by lieutment {Hero_name} to {Heroin_name}\")"
   ]
  },
  {
   "cell_type": "code",
   "execution_count": null,
   "id": "a4604f23",
   "metadata": {},
   "outputs": [],
   "source": [
    "num_1 = 10 \n",
    "num_2 = 20\n",
    "num_3 = 30\n",
    "print(f\"There are {num_1} apples . I gave my {num_1-5} apples to another person. so that he gave me a {num_3/10} orange.I am very happy to receive the {num_3/10} orange\" )"
   ]
  },
  {
   "cell_type": "code",
   "execution_count": null,
   "id": "8057c840",
   "metadata": {},
   "outputs": [],
   "source": [
    "a= 10\n",
    "b=65\n",
    "print(a>b)\n",
    "print(a<=b)\n",
    "print(a!=b)"
   ]
  },
  {
   "cell_type": "code",
   "execution_count": 4,
   "id": "7ba2277f",
   "metadata": {},
   "outputs": [
    {
     "name": "stdout",
     "output_type": "stream",
     "text": [
      "Enter the date:11.12.2023\n",
      "You are allowed to the next checking\n",
      "Did you get a negative result for COVID19(Yes/no):yes\n",
      "You are allowed\n",
      "What's the reason for travel? (holiday/business): holiday\n",
      "You are allowed\n",
      "Enter the bag weight that you have: 26\n",
      "You have to pay fees, otherwise, you are not allowed\n",
      "Enter the fees: 15\n",
      "Please enter the valid amount\n"
     ]
    }
   ],
   "source": [
    "date = \"11.12.2023\"\n",
    "on_date = input(\"Enter the date:\")\n",
    "if on_date==date:\n",
    "    print(\"You are allowed to the next checking\")\n",
    "    covid19=input(\"Did you get a negative result for COVID19(Yes/no):\")\n",
    "    if covid19.lower()==\"yes\":\n",
    "        print(\"You are allowed\")\n",
    "        reason_for_travel=input(\"What's the reason for travel? (holiday/business): \")\n",
    "        if reason_for_travel.lower() in [\"holiday\", \"business\"]:\n",
    "            print(\"You are allowed\")\n",
    "            bag_weight=int(input(\"Enter the bag weight that you have: \"))\n",
    "            if bag_weight>20:\n",
    "                print(\"You have to pay fees, otherwise, you are not allowed\")\n",
    "                fees=1500\n",
    "                pay_fees=int(input(\"Enter the fees: \"))\n",
    "                if pay_fees==fees:\n",
    "                    print(\"You are allowed Now\")\n",
    "                    print(\"HAD A HAPPY JOURNEY\")\n",
    "                else:\n",
    "                    print(\"Please enter the valid amount\")\n",
    "            else:\n",
    "                print(\"You are allowed\")\n",
    "                print(\"HAD A HAPPY JOURNEY\")\n",
    "        else:\n",
    "            print(\"We have a doubt about your reason. Please stay there.\")\n",
    "    else:\n",
    "        print(\"Sorry, you are not allowed\")\n",
    "else:\n",
    "    print(\"You are not allowed\")    \n"
   ]
  },
  {
   "cell_type": "code",
   "execution_count": 7,
   "id": "a195747f",
   "metadata": {},
   "outputs": [],
   "source": [
    "list1=[\"Nivetha\",\"kamaraj\",\"Malathi\",\"Thiyagesh\"]\n",
    "list2=[1,2,3]"
   ]
  },
  {
   "cell_type": "code",
   "execution_count": 8,
   "id": "ce21335b",
   "metadata": {},
   "outputs": [
    {
     "name": "stdout",
     "output_type": "stream",
     "text": [
      "['Nivetha', 'kamaraj', 'Malathi', 'Thiyagesh']\n"
     ]
    }
   ],
   "source": [
    "print(list1)"
   ]
  },
  {
   "cell_type": "code",
   "execution_count": 9,
   "id": "022f5224",
   "metadata": {},
   "outputs": [
    {
     "name": "stdout",
     "output_type": "stream",
     "text": [
      "['Nivetha', 'kamaraj', 'Malathi', 'Thiyagesh', 'Yogesh']\n"
     ]
    }
   ],
   "source": [
    "list1.append(\"Yogesh\")\n",
    "print(list1)"
   ]
  },
  {
   "cell_type": "code",
   "execution_count": 10,
   "id": "28a4608c",
   "metadata": {},
   "outputs": [
    {
     "name": "stdout",
     "output_type": "stream",
     "text": [
      "['Nivetha', 'kamaraj', 'Malathi', 'Thiyagesh', 'Yogesh', 1, 2, 3]\n"
     ]
    }
   ],
   "source": [
    "list1.extend(list2)\n",
    "print(list1)"
   ]
  },
  {
   "cell_type": "code",
   "execution_count": 11,
   "id": "d65d6192",
   "metadata": {},
   "outputs": [
    {
     "data": {
      "text/plain": [
       "3"
      ]
     },
     "execution_count": 11,
     "metadata": {},
     "output_type": "execute_result"
    }
   ],
   "source": [
    "list1.pop()"
   ]
  },
  {
   "cell_type": "code",
   "execution_count": null,
   "id": "5ecd1139",
   "metadata": {},
   "outputs": [],
   "source": []
  }
 ],
 "metadata": {
  "kernelspec": {
   "display_name": "Python 3 (ipykernel)",
   "language": "python",
   "name": "python3"
  },
  "language_info": {
   "codemirror_mode": {
    "name": "ipython",
    "version": 3
   },
   "file_extension": ".py",
   "mimetype": "text/x-python",
   "name": "python",
   "nbconvert_exporter": "python",
   "pygments_lexer": "ipython3",
   "version": "3.10.9"
  }
 },
 "nbformat": 4,
 "nbformat_minor": 5
}
